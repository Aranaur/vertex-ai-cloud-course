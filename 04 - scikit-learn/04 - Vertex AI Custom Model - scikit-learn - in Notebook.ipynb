{
 "cells": [
  {
   "cell_type": "markdown",
   "id": "f23d0136-bbdd-4d43-b658-88f27e57a34e",
   "metadata": {},
   "source": [
    "# 04 - Vertex AI Custom Model - scikit-learn - в Notebook\n",
    "\n",
    "Навчання моделі відбувається там, де вона споживає обчислювальні ресурси.  З Vertex AI у вас є вибір для налаштування обчислювальних ресурсів, доступних для навчання.  Цей ноутбук є прикладом середовища виконання.  Під час його налаштування можна було вибрати тип комп'ютера та прискорювачі (GPU).  \n",
    "\n",
    "У цьому блокноті показано навчання моделі безпосередньо під час виконання в середовищі блокнота.  Потім модель зберігається і переміщується в GCS для розгортання в Vertex AI > Endpoint для онлайн-прогнозування.  Навчання моделі виконується за допомогою [scikit-learn](https://scikit-learn.org/stable/) і призначене для демонстрації стандартного підходу до логістичної регресії."
   ]
  },
  {
   "cell_type": "markdown",
   "id": "c8bcf1b2",
   "metadata": {},
   "source": [
    "---\n",
    "## Налаштування"
   ]
  },
  {
   "cell_type": "markdown",
   "id": "10e366e2",
   "metadata": {},
   "source": [
    "вхідні дані:"
   ]
  },
  {
   "cell_type": "code",
   "execution_count": null,
   "id": "918de403-af6d-44ff-9f05-a963b392ba7f",
   "metadata": {},
   "outputs": [],
   "source": [
    "project = !gcloud config get-value project\n",
    "PROJECT_ID = project[0]\n",
    "PROJECT_ID"
   ]
  },
  {
   "cell_type": "code",
   "execution_count": null,
   "id": "614de332",
   "metadata": {},
   "outputs": [],
   "source": [
    "REGION = 'us-central1'\n",
    "EXPERIMENT = '04'\n",
    "SERIES = '04'\n",
    "\n",
    "# джерело даних\n",
    "BQ_PROJECT = PROJECT_ID\n",
    "BQ_DATASET = 'fraud'\n",
    "BQ_TABLE = 'fraud_prepped'\n",
    "\n",
    "# Ресурси\n",
    "DEPLOY_COMPUTE = 'n1-standard-4'\n",
    "DEPLOY_IMAGE = 'us-docker.pkg.dev/vertex-ai/prediction/sklearn-cpu.0-23:latest'\n",
    "TRAINING_IMAGE = 'us-docker.pkg.dev/vertex-ai/training/sklearn-cpu.0-23:latest'\n",
    "\n",
    "# Навчання моделі\n",
    "VAR_TARGET = 'Class'\n",
    "VAR_OMIT = 'transaction_id-splits'\n"
   ]
  },
  {
   "cell_type": "markdown",
   "id": "a92f2936",
   "metadata": {},
   "source": [
    "пакети:"
   ]
  },
  {
   "cell_type": "code",
   "execution_count": null,
   "id": "986e7804",
   "metadata": {},
   "outputs": [],
   "source": [
    "from google.cloud import bigquery\n",
    "from google.cloud import aiplatform\n",
    "from google.cloud import storage\n",
    "\n",
    "import sklearn\n",
    "from sklearn.preprocessing import StandardScaler\n",
    "from sklearn.linear_model import LogisticRegression\n",
    "from sklearn.pipeline import Pipeline\n",
    "from sklearn import metrics\n",
    "\n",
    "import pickle\n",
    "import pandas as pd \n",
    "import numpy as np \n",
    "import matplotlib.pyplot as plt \n",
    "import seaborn as sns \n",
    "import json\n",
    "\n",
    "from datetime import datetime\n",
    "import os\n",
    "\n",
    "from google.protobuf import json_format\n",
    "from google.protobuf.struct_pb2 import Value\n"
   ]
  },
  {
   "cell_type": "markdown",
   "id": "139d3707",
   "metadata": {},
   "source": [
    "клієнти:"
   ]
  },
  {
   "cell_type": "code",
   "execution_count": null,
   "id": "fdbc3411",
   "metadata": {},
   "outputs": [],
   "source": [
    "aiplatform.init(project=PROJECT_ID, location=REGION)\n",
    "bq = bigquery.Client(project=PROJECT_ID)"
   ]
  },
  {
   "cell_type": "markdown",
   "id": "6f4052df",
   "metadata": {},
   "source": [
    "параметри:"
   ]
  },
  {
   "cell_type": "code",
   "execution_count": null,
   "id": "ddd94e3a",
   "metadata": {},
   "outputs": [],
   "source": [
    "TIMESTAMP = datetime.now().strftime(\"%Y%m%d%H%M%S\")\n",
    "BUCKET = PROJECT_ID\n",
    "URI = f\"gs://{BUCKET}/{SERIES}/{EXPERIMENT}\"\n",
    "DIR = f\"temp/{EXPERIMENT}\"\n",
    "BLOB = f\"{SERIES}/{EXPERIMENT}/models/{TIMESTAMP}/model/model.pkl\""
   ]
  },
  {
   "cell_type": "markdown",
   "id": "1ad564f6-d206-4f72-ac7b-3e23a65c6324",
   "metadata": {},
   "source": [
    "трекінг експеременту:"
   ]
  },
  {
   "cell_type": "code",
   "execution_count": null,
   "id": "a6f80dfc-7237-4a9f-a891-7093e3a3af58",
   "metadata": {},
   "outputs": [],
   "source": [
    "FRAMEWORK = 'sklearn'\n",
    "TASK = 'classification'\n",
    "MODEL_TYPE = 'logistic-regression'\n",
    "EXPERIMENT_NAME = f'experiment-{SERIES}-{EXPERIMENT}-{FRAMEWORK}-{TASK}-{MODEL_TYPE}'\n",
    "RUN_NAME = f'run-{TIMESTAMP}'"
   ]
  },
  {
   "cell_type": "markdown",
   "id": "de43acbc",
   "metadata": {},
   "source": [
    "оточення:"
   ]
  },
  {
   "cell_type": "code",
   "execution_count": null,
   "id": "a92f3b28",
   "metadata": {},
   "outputs": [],
   "source": [
    "!rm -rf {DIR}\n",
    "!mkdir -p {DIR}"
   ]
  },
  {
   "cell_type": "markdown",
   "id": "def56928-203b-4123-af3d-d9c86064cb64",
   "metadata": {},
   "source": [
    "---\n",
    "## Налаштування Vertex AI Experiments\n",
    "\n",
    "Код у цьому розділі ініціалізує експеримент і запускає прогін.  Впродовж усього блокнота в секціях для навчання моделі та оцінювання експерименту буде записано інформацію про експеримент за допомогою:\n",
    "- [.log_params](https://cloud.google.com/python/docs/reference/aiplatform/latest/google.cloud.aiplatform#google_cloud_aiplatform_log_params)\n",
    "- [.log_metrics](https://cloud.google.com/python/docs/reference/aiplatform/latest/google.cloud.aiplatform#google_cloud_aiplatform_log_metrics)\n",
    "- [.log_time_series_metrics](https://cloud.google.com/python/docs/reference/aiplatform/latest/google.cloud.aiplatform#google_cloud_aiplatform_log_time_series_metrics)"
   ]
  },
  {
   "cell_type": "markdown",
   "id": "b4e27bcc-5312-44bf-9464-22ad3d4cc874",
   "metadata": {},
   "source": [
    "Ініціалізація експерименту:"
   ]
  },
  {
   "cell_type": "code",
   "execution_count": null,
   "id": "e08ff415-c016-4429-a23e-7f78f1281896",
   "metadata": {},
   "outputs": [],
   "source": [
    "aiplatform.init(experiment = EXPERIMENT_NAME)"
   ]
  },
  {
   "cell_type": "markdown",
   "id": "00bf97f8-02d2-4b68-9a95-8590a4ea8255",
   "metadata": {},
   "source": [
    "Створення експерименту в Vertex AI Experiments:"
   ]
  },
  {
   "cell_type": "code",
   "execution_count": null,
   "id": "a5e59251-3f8a-4939-8a32-45da5d49b82b",
   "metadata": {},
   "outputs": [],
   "source": [
    "expRun = aiplatform.ExperimentRun.create(run_name = RUN_NAME, experiment = EXPERIMENT_NAME)"
   ]
  },
  {
   "cell_type": "markdown",
   "id": "e0f9737e-9cf1-4aa0-b31f-a95ebc6a53a7",
   "metadata": {},
   "source": [
    "Логи параметрів:"
   ]
  },
  {
   "cell_type": "code",
   "execution_count": null,
   "id": "842318a5-ab19-4d4e-86ee-9098f41b4c37",
   "metadata": {},
   "outputs": [],
   "source": [
    "expRun.log_params({'experiment': EXPERIMENT, 'series': SERIES, 'project_id': PROJECT_ID})"
   ]
  },
  {
   "cell_type": "markdown",
   "id": "eaf48dc3-cdbd-4e34-be4d-33c7563dbd33",
   "metadata": {},
   "source": [
    "---\n",
    "## Навчальні дані\n",
    "У цій вправі джерелом даних є таблиця в Google BigQuery.  Хоча можна перенести всю таблицю в локальний блокнот як фреймворк даних Pandas, це не є масштабованим рішенням для дуже великих навчальних таблиць."
   ]
  },
  {
   "cell_type": "markdown",
   "id": "5f93fde9",
   "metadata": {},
   "source": [
    "### Схема даних\n",
    "Використання BigQueries Information_Schema - це простий спосіб швидко отримати інформацію про стовпці наших навчальних даних.  У цьому випадку нам потрібні назви стовпців і типи даних, щоб налаштувати зчитування даних і вхідні дані моделі.  У цьому розділі ми отримаємо інформацію про стовпці для джерела навчальної таблиці."
   ]
  },
  {
   "cell_type": "code",
   "execution_count": null,
   "id": "6edde19f",
   "metadata": {},
   "outputs": [],
   "source": [
    "query = f\"SELECT * FROM `{BQ_PROJECT}.{BQ_DATASET}.INFORMATION_SCHEMA.COLUMNS` WHERE TABLE_NAME = '{BQ_TABLE}'\"\n",
    "schema = bq.query(query).to_dataframe()\n",
    "schema"
   ]
  },
  {
   "cell_type": "markdown",
   "id": "a968eba8",
   "metadata": {},
   "source": [
    "### Кількість класів для стовпця міток: VAR_TARGET\n",
    "Це приклад керованого навчання, який класифікує приклади за класами, знайденими у стовпчику міток, що зберігається у змінній `VAR_TARGET`."
   ]
  },
  {
   "cell_type": "code",
   "execution_count": null,
   "id": "45fcc860",
   "metadata": {},
   "outputs": [],
   "source": [
    "nclasses = bq.query(query = f'SELECT DISTINCT {VAR_TARGET} FROM `{BQ_PROJECT}.{BQ_DATASET}.{BQ_TABLE}` WHERE {VAR_TARGET} is not null').to_dataframe()\n",
    "nclasses"
   ]
  },
  {
   "cell_type": "code",
   "execution_count": null,
   "id": "88143160",
   "metadata": {},
   "outputs": [],
   "source": [
    "nclasses = nclasses.shape[0]\n",
    "nclasses"
   ]
  },
  {
   "cell_type": "code",
   "execution_count": null,
   "id": "012a3e13-b4e3-47a8-827b-bfacf0a697df",
   "metadata": {},
   "outputs": [],
   "source": [
    "expRun.log_params({'data_source': f'bq://{BQ_PROJECT}.{BQ_DATASET}.{BQ_TABLE}', 'nclasses': nclasses, 'var_split': 'splits', 'var_target': VAR_TARGET})"
   ]
  },
  {
   "cell_type": "markdown",
   "id": "8169327f",
   "metadata": {},
   "source": [
    "---\n",
    "## Читаємо з BigQuery"
   ]
  },
  {
   "cell_type": "code",
   "execution_count": null,
   "id": "ac490cd0-8d9b-4eba-878f-32306bdf2d43",
   "metadata": {},
   "outputs": [],
   "source": [
    "VAR_OMIT = (VAR_OMIT  + '-' + VAR_TARGET).split('-')"
   ]
  },
  {
   "cell_type": "code",
   "execution_count": null,
   "id": "18d5c48d-da01-4129-aed6-0bf78bedb346",
   "metadata": {},
   "outputs": [],
   "source": [
    "train_query = f\"SELECT * FROM `{BQ_PROJECT}.{BQ_DATASET}.{BQ_TABLE}` WHERE splits = 'TRAIN'\"\n",
    "train = bq.query(train_query).to_dataframe()\n",
    "X_train = train.loc[:, ~train.columns.isin(VAR_OMIT)]\n",
    "y_train = train[VAR_TARGET].astype('int')"
   ]
  },
  {
   "cell_type": "code",
   "execution_count": null,
   "id": "62518589-dec9-4f69-a60f-144b87b69499",
   "metadata": {},
   "outputs": [],
   "source": [
    "val_query = f\"SELECT * FROM `{BQ_PROJECT}.{BQ_DATASET}.{BQ_TABLE}` WHERE splits = 'VALIDATE'\"\n",
    "val = bq.query(val_query).to_dataframe()\n",
    "X_val = val.loc[:, ~val.columns.isin(VAR_OMIT)]\n",
    "y_val = val[VAR_TARGET].astype('int')"
   ]
  },
  {
   "cell_type": "code",
   "execution_count": null,
   "id": "da74d56e-696e-4954-a879-d3abc8549b86",
   "metadata": {},
   "outputs": [],
   "source": [
    "test_query = f\"SELECT * FROM `{BQ_PROJECT}.{BQ_DATASET}.{BQ_TABLE}` WHERE splits = 'TEST'\"\n",
    "test = bq.query(test_query).to_dataframe()\n",
    "X_test = test.loc[:, ~test.columns.isin(VAR_OMIT)]\n",
    "y_test = test[VAR_TARGET].astype('int')"
   ]
  },
  {
   "cell_type": "markdown",
   "id": "f359ac9a",
   "metadata": {},
   "source": [
    "---\n",
    "## Тренування моделі у блокноті (локальний режим виконання)\n",
    "\n",
    "У цьому прикладі використовується перехресна перевірка сіткового пошуку ([GridSearchCV](https://scikit-learn.org/stable/modules/generated/sklearn.model_selection.GridSearchCV.html?highlight=gridsearch#sklearn.model_selection.GridSearchCV)) для тестування різних комбінацій параметрів моделі, щоб визначити найкращу модель логістичної регресії з оцінкою точності ([sklearn logistic regression](https://scikit-learn.org/stable/modules/generated/sklearn.linear_model.LogisticRegression.html)).  \n",
    "\n",
    "Попередження Вибір алгоритму залежить від обраного штрафу. Підтримувані штрафи розв'язувачем:\n",
    "- 'newton-cg' - ['l2', 'none'].\n",
    "- 'lbfgs' - ['l2', 'none']\n",
    "- 'liblinear' - ['l1', 'l2'].\n",
    "- 'sag' - ['l2', 'none']\n",
    "- 'saga' - ['elasticnet', 'l1', 'l2', 'none']."
   ]
  },
  {
   "cell_type": "code",
   "execution_count": null,
   "id": "bde03bab-4ec8-4f75-be31-046a45b5bf93",
   "metadata": {
    "scrolled": true,
    "tags": []
   },
   "outputs": [],
   "source": [
    "# визначення параметрів\n",
    "solver = 'newton-cg'\n",
    "penalty = 'l2'\n",
    "\n",
    "# визначення моделі\n",
    "logistic = LogisticRegression(solver=solver, penalty=penalty)\n",
    "\n",
    "# Нормалізація даних\n",
    "scaler = StandardScaler()\n"
   ]
  },
  {
   "cell_type": "code",
   "execution_count": null,
   "id": "a248830e-34c7-485c-8221-da92d66adb69",
   "metadata": {},
   "outputs": [],
   "source": [
    "expRun.log_params({'solver': solver, 'penalty': penalty})"
   ]
  },
  {
   "cell_type": "code",
   "execution_count": null,
   "id": "5908e5c6-f9bf-481a-8817-d93ca3f1eba9",
   "metadata": {
    "scrolled": true,
    "tags": []
   },
   "outputs": [],
   "source": [
    "# ініціалізація пайплайну\n",
    "pipe = Pipeline(steps=[(\"scaler\", scaler), (\"logistic\", logistic)])\n",
    "\n",
    "# визначення пошуку по сітці\n",
    "model = pipe.fit(X_train, y_train)\n"
   ]
  },
  {
   "cell_type": "code",
   "execution_count": null,
   "id": "0d24a13d-c65b-42b2-9f21-43e83b881f19",
   "metadata": {},
   "outputs": [],
   "source": [
    "model.get_params"
   ]
  },
  {
   "cell_type": "markdown",
   "id": "42fc016d",
   "metadata": {},
   "source": [
    "Оцінювання моделі"
   ]
  },
  {
   "cell_type": "code",
   "execution_count": null,
   "id": "225ff0a5-ba8f-4c30-b49a-795f312fd984",
   "metadata": {},
   "outputs": [],
   "source": [
    "y_pred_training = model.predict(X_train)\n",
    "training_acc = metrics.accuracy_score(y_train, y_pred_training) \n",
    "training_prec = metrics.precision_score(y_train, y_pred_training)\n",
    "training_rec = metrics.recall_score(y_train, y_pred_training)\n",
    "training_rocauc = metrics.roc_auc_score(y_train, y_pred_training)\n",
    "print('accuracy: ' + str(training_acc) + ', precision: ' + str(training_prec) + ', recall: ' + str(training_rec) + ', ROC AUC: ' + str(training_rocauc))"
   ]
  },
  {
   "cell_type": "code",
   "execution_count": null,
   "id": "419eb6e0-2495-4da1-9a36-8300adc90f03",
   "metadata": {},
   "outputs": [],
   "source": [
    "expRun.log_metrics({'training_accuracy': training_acc, 'training_precision':training_prec, 'training_recall': training_rec, 'training_roc_auc': training_rocauc})"
   ]
  },
  {
   "cell_type": "code",
   "execution_count": null,
   "id": "61787273",
   "metadata": {},
   "outputs": [],
   "source": [
    "y_pred_val = model.predict(X_val)\n",
    "val_acc = metrics.accuracy_score(y_val, y_pred_val) \n",
    "val_prec = metrics.precision_score(y_val, y_pred_val)\n",
    "val_rec = metrics.recall_score(y_val, y_pred_val)\n",
    "val_rocauc = metrics.roc_auc_score(y_val, y_pred_val)\n",
    "print('accuracy: ' + str(val_acc) + ', precision: ' + str(val_prec) + ', recall: ' + str(val_rec) + ', ROC AUC: ' + str(val_rocauc))"
   ]
  },
  {
   "cell_type": "code",
   "execution_count": null,
   "id": "d3396634-5278-4c95-a4da-559c86340008",
   "metadata": {},
   "outputs": [],
   "source": [
    "expRun.log_metrics({'validation_accuracy': val_acc, 'validation_precision': val_prec, 'validation_recall': val_rec, 'validation_roc_auc': val_rocauc})"
   ]
  },
  {
   "cell_type": "code",
   "execution_count": null,
   "id": "190d870d",
   "metadata": {},
   "outputs": [],
   "source": [
    "y_pred = model.predict(X_test)\n",
    "test_acc = metrics.accuracy_score(y_test, y_pred) \n",
    "test_prec = metrics.precision_score(y_test, y_pred)\n",
    "test_rec = metrics.recall_score(y_test, y_pred)\n",
    "test_rocauc = metrics.roc_auc_score(y_test, y_pred)\n",
    "print('accuracy: ' + str(test_acc) + ', precision: ' + str(test_prec) + ', recall: ' + str(test_rec) + ', ROC AUC: ' + str(test_rocauc))"
   ]
  },
  {
   "cell_type": "code",
   "execution_count": null,
   "id": "eac7e804-e391-4a4e-b743-887ffcec50c0",
   "metadata": {},
   "outputs": [],
   "source": [
    "expRun.log_metrics({'test_accuracy': test_acc, 'test_precision': test_prec, 'test_recall': test_rec, 'test_roc_auc': test_rocauc})"
   ]
  },
  {
   "cell_type": "markdown",
   "id": "b3e70c32",
   "metadata": {},
   "source": [
    "Створіть прогноз на основі батчу тестових даних і перегляньте матрицю плутанини:"
   ]
  },
  {
   "cell_type": "code",
   "execution_count": null,
   "id": "c66b7de2-111a-4270-b3d3-f30e04d69096",
   "metadata": {},
   "outputs": [],
   "source": [
    "cnf_matrix = metrics.confusion_matrix(y_test, y_pred) \n",
    "\n",
    "class_names = [0,1]\n",
    "fig, ax = plt.subplots() \n",
    "tick_marks = np.arange(len(class_names)) \n",
    "plt.xticks(tick_marks, class_names) \n",
    "plt.yticks(tick_marks, class_names) \n",
    "\n",
    "# heatmap \n",
    "sns.heatmap(pd.DataFrame(cnf_matrix), annot=True, cmap=\"YlGnBu\", fmt='g') \n",
    "ax.xaxis.set_label_position(\"top\") \n",
    "plt.tight_layout() \n",
    "plt.title('Confusion matrix', y=1.1) \n",
    "plt.ylabel('Actual label') \n",
    "plt.xlabel('Predicted label')"
   ]
  },
  {
   "cell_type": "markdown",
   "id": "060db155",
   "metadata": {},
   "source": [
    "### Збереження моделі"
   ]
  },
  {
   "cell_type": "code",
   "execution_count": null,
   "id": "08d415f2-61d5-4f95-85f0-5b107039ce44",
   "metadata": {},
   "outputs": [],
   "source": [
    "# pickle\n",
    "!mkdir model_artifacts\n",
    "\n",
    "with open('model_artifacts/model.pkl','wb') as f:\n",
    "    pickle.dump(model,f)"
   ]
  },
  {
   "cell_type": "code",
   "execution_count": null,
   "id": "7531c26c-05b0-4035-a6f6-999901d12c97",
   "metadata": {},
   "outputs": [],
   "source": [
    "# Завантажте модель до GCS\n",
    "bucket = storage.Client().bucket(BUCKET)\n",
    "blob = bucket.blob(BLOB)\n",
    "blob.upload_from_filename('model_artifacts/model.pkl')"
   ]
  },
  {
   "cell_type": "code",
   "execution_count": null,
   "id": "4b5901c8-13ab-437b-85a7-54c905d4d41c",
   "metadata": {},
   "outputs": [],
   "source": [
    "# підтвердити, що модель знаходиться у правильному бакеті\n",
    "!gsutil ls {URI}/models/{TIMESTAMP}/model/"
   ]
  },
  {
   "cell_type": "code",
   "execution_count": null,
   "id": "9de60343-942b-44c6-8b30-6b859e23733a",
   "metadata": {},
   "outputs": [],
   "source": [
    "expRun.log_params({'model.save': f'{URI}/models/{TIMESTAMP}/model'})"
   ]
  },
  {
   "cell_type": "markdown",
   "id": "10036d46",
   "metadata": {},
   "source": [
    "### Завантаження моделі"
   ]
  },
  {
   "cell_type": "code",
   "execution_count": null,
   "id": "83a92832-1217-4a96-a7ce-b4e6a39f617c",
   "metadata": {},
   "outputs": [],
   "source": [
    "modelmatch = aiplatform.Model.list(filter = f'display_name={SERIES}_{EXPERIMENT} AND labels.series={SERIES} AND labels.experiment={EXPERIMENT}')\n",
    "\n",
    "upload_model = True\n",
    "if modelmatch:\n",
    "    print(\"Модель вже зареєстрована:\")\n",
    "    if RUN_NAME in modelmatch[0].version_aliases:\n",
    "        print(\"Ця версія вже завантажена, ніяких дій не виконується.\")\n",
    "        upload_model = False\n",
    "        model = aiplatform.Model(model_name = modelmatch[0].resource_name)\n",
    "    else:\n",
    "        print('Завантаження моделі як нової версії за замовчуванням.')\n",
    "        parent_model = modelmatch[0].resource_name\n",
    "\n",
    "else:\n",
    "    print('Це нова модель, створена в реєстрі моделей')\n",
    "    parent_model = ''\n",
    "\n",
    "if upload_model:\n",
    "    model = aiplatform.Model.upload(\n",
    "        display_name = f'{SERIES}_{EXPERIMENT}',\n",
    "        model_id = f'model_{SERIES}_{EXPERIMENT}',\n",
    "        parent_model =  parent_model,\n",
    "        serving_container_image_uri = DEPLOY_IMAGE,\n",
    "        artifact_uri = f\"{URI}/models/{TIMESTAMP}/model\",\n",
    "        is_default_version = True,\n",
    "        version_aliases = [RUN_NAME],\n",
    "        version_description = RUN_NAME,\n",
    "        labels = {'series' : f'{SERIES}', 'experiment' : f'{EXPERIMENT}', 'experiment_name' : f'{EXPERIMENT_NAME}', 'run_name' : f'{RUN_NAME}'}        \n",
    "    )"
   ]
  },
  {
   "cell_type": "code",
   "execution_count": null,
   "id": "f6403f1d-c1a7-44a4-89ab-4ce322ac6ebf",
   "metadata": {},
   "outputs": [],
   "source": [
    "print(f'Перегляньте модель у Реєстрі моделей ШІ Vertex:\\nhttps://console.cloud.google.com/vertex-ai/locations/{REGION}/models/{model.name}?project={PROJECT_ID}')"
   ]
  },
  {
   "cell_type": "markdown",
   "id": "75b4736b-95af-4b12-8aa2-a9faecfb7ee1",
   "metadata": {},
   "source": [
    "### Vertex AI Experiment оновлення та огляд"
   ]
  },
  {
   "cell_type": "code",
   "execution_count": null,
   "id": "2b0c14d4-6296-46c8-b6e6-6e7c96d657a6",
   "metadata": {},
   "outputs": [],
   "source": [
    "expRun.log_params({\n",
    "    'model.uri': model.uri,\n",
    "    'model.display_name': model.display_name,\n",
    "    'model.name': model.name,\n",
    "    'model.resource_name': model.resource_name,\n",
    "    'model.version_id': model.version_id,\n",
    "    'model.versioned_resource_name': model.versioned_resource_name\n",
    "})"
   ]
  },
  {
   "cell_type": "markdown",
   "id": "e4a88b8c-167b-4949-b466-1fa74ca8688e",
   "metadata": {},
   "source": [
    "Завершіть експеримент:"
   ]
  },
  {
   "cell_type": "code",
   "execution_count": null,
   "id": "2743ec88-6167-43eb-a85b-d7d9e276d27f",
   "metadata": {},
   "outputs": [],
   "source": [
    "expRun.update_state(state = aiplatform.gapic.Execution.State.COMPLETE)"
   ]
  },
  {
   "cell_type": "markdown",
   "id": "9e2ca309-1192-4fba-89ce-ea9a9357da03",
   "metadata": {},
   "source": [
    "Відновити експеримент:"
   ]
  },
  {
   "cell_type": "code",
   "execution_count": null,
   "id": "407f5500-ff68-4fd1-8d45-43676ea1ed1e",
   "metadata": {},
   "outputs": [],
   "source": [
    "exp = aiplatform.Experiment(experiment_name = EXPERIMENT_NAME)"
   ]
  },
  {
   "cell_type": "code",
   "execution_count": null,
   "id": "9526f9ed-152b-425c-922e-48be4fd571bb",
   "metadata": {},
   "outputs": [],
   "source": [
    "exp.get_data_frame()"
   ]
  },
  {
   "cell_type": "markdown",
   "id": "ecde5460-a1fe-447d-a680-565202578a5b",
   "metadata": {},
   "source": [
    "### Перегляд експерименту та запуск у консолі"
   ]
  },
  {
   "cell_type": "code",
   "execution_count": null,
   "id": "dd7d12f5-cc68-4503-83a4-feeb3883bd46",
   "metadata": {},
   "outputs": [],
   "source": [
    "print(f'Перегляньте експеримент у консолі:\\nhttps://console.cloud.google.com/vertex-ai/locations/{REGION}/experiments/{EXPERIMENT_NAME}?project={PROJECT_ID}')"
   ]
  },
  {
   "cell_type": "code",
   "execution_count": null,
   "id": "69e912f4-e2ef-496b-8e8e-e3c1dc25a289",
   "metadata": {},
   "outputs": [],
   "source": [
    "print(f'Перегляньте виконання експерименту у консолі:\\nhttps://console.cloud.google.com/vertex-ai/locations/{REGION}/experiments/{EXPERIMENT_NAME}/runs/{EXPERIMENT_NAME}-{RUN_NAME}?project={PROJECT_ID}')"
   ]
  },
  {
   "cell_type": "markdown",
   "id": "aba14c20-b8bc-4635-8e78-0b9c4fdac7ae",
   "metadata": {},
   "source": [
    "Отримайте список усіх експериментів у цьому проєкті:"
   ]
  },
  {
   "cell_type": "code",
   "execution_count": null,
   "id": "bca52834-edfd-489d-b1de-d0b31a90989b",
   "metadata": {},
   "outputs": [],
   "source": [
    "experiments = aiplatform.Experiment.list()"
   ]
  },
  {
   "cell_type": "markdown",
   "id": "2872ad66-f69d-4b2d-a244-d3bd9e7dcf55",
   "metadata": {},
   "source": [
    "Видаліть експерименти, які не входять до SERIES:"
   ]
  },
  {
   "cell_type": "code",
   "execution_count": null,
   "id": "7d904530-ec47-431d-83a7-fe0b4571ef12",
   "metadata": {},
   "outputs": [],
   "source": [
    "experiments = [e for e in experiments if e.name.split('-')[0:2] == ['experiment', SERIES]]"
   ]
  },
  {
   "cell_type": "markdown",
   "id": "b22a8a36-b40a-4e2a-88fa-e5200c548e20",
   "metadata": {},
   "source": [
    "Об'єднайте прогони з усіх експериментів у SERIES в єдиний фрейм даних:"
   ]
  },
  {
   "cell_type": "code",
   "execution_count": null,
   "id": "1337a369-efeb-4d25-9c77-f5945ae0e247",
   "metadata": {},
   "outputs": [],
   "source": [
    "results = []\n",
    "for experiment in experiments:\n",
    "        results.append(experiment.get_data_frame())\n",
    "        print(experiment.name)\n",
    "results = pd.concat(results)"
   ]
  },
  {
   "cell_type": "markdown",
   "id": "4a9b6ca4-14a5-4577-8406-e35b38dfa50d",
   "metadata": {},
   "source": [
    "Створіть ранги для моделей в межах експерименту та всієї SERIES:"
   ]
  },
  {
   "cell_type": "code",
   "execution_count": null,
   "id": "e2a81e10-7e4d-490e-bb16-15a2067775ab",
   "metadata": {},
   "outputs": [],
   "source": [
    "def ranker(metric = 'metric.test_roc_auc'):\n",
    "    ranks = results[['experiment_name', 'run_name', 'param.model.display_name', 'param.model.version_id', metric]].copy().reset_index(drop = True)\n",
    "    ranks['series_rank'] = ranks[metric].rank(method = 'dense', ascending = False)\n",
    "    ranks['experiment_rank'] = ranks.groupby('experiment_name')[metric].rank(method = 'dense', ascending = False)\n",
    "    return ranks.sort_values(by = ['experiment_name', 'run_name'])\n",
    "    \n",
    "ranks = ranker('metric.test_roc_auc')\n",
    "ranks"
   ]
  },
  {
   "cell_type": "code",
   "execution_count": null,
   "id": "e352c555-ab9a-458a-be53-75e6e609346c",
   "metadata": {},
   "outputs": [],
   "source": [
    "current_rank = ranks.loc[(ranks['param.model.display_name'] == model.display_name) & (ranks['param.model.version_id'] == model.version_id)]\n",
    "current_rank"
   ]
  },
  {
   "cell_type": "code",
   "execution_count": null,
   "id": "298967cb-9a26-44cc-9ddc-4485a91cb599",
   "metadata": {},
   "outputs": [],
   "source": [
    "print(f\"Поточна модель займає {current_rank['experiment_rank'].iloc[0]} у цьому експерименті та {current_rank['series_rank'].iloc[0]} у цій серії.\")"
   ]
  },
  {
   "cell_type": "markdown",
   "id": "dfd12b79",
   "metadata": {},
   "source": [
    "### Створення Endpoint"
   ]
  },
  {
   "cell_type": "code",
   "execution_count": null,
   "id": "2cc28d98-b525-4385-9b95-489bf574f967",
   "metadata": {},
   "outputs": [],
   "source": [
    "endpoints = aiplatform.Endpoint.list(filter = f\"labels.series={SERIES}\")\n",
    "if endpoints:\n",
    "    endpoint = endpoints[0]\n",
    "    print(f\"Endpoint існує: {endpoints[0].resource_name}\")\n",
    "else:\n",
    "    endpoint = aiplatform.Endpoint.create(\n",
    "        display_name = f\"{SERIES}\",\n",
    "        labels = {'series' : f\"{SERIES}\"}    \n",
    "    )\n",
    "    print(f\"Endpoint створено: {endpoint.resource_name}\")\n",
    "    \n",
    "print(f'Перегляд кінцевої точки в консолі:\\nhttps://console.cloud.google.com/vertex-ai/locations/{REGION}/endpoints/{endpoint.name}?project={PROJECT_ID}')"
   ]
  },
  {
   "cell_type": "code",
   "execution_count": null,
   "id": "0a538bf0",
   "metadata": {},
   "outputs": [],
   "source": [
    "endpoint.display_name"
   ]
  },
  {
   "cell_type": "code",
   "execution_count": null,
   "id": "235f1c20-4ccc-40c5-8492-1670f8a6367a",
   "metadata": {},
   "outputs": [],
   "source": [
    "endpoint.traffic_split"
   ]
  },
  {
   "cell_type": "code",
   "execution_count": null,
   "id": "d3615134-0dec-45b1-9797-8293b08a74cf",
   "metadata": {},
   "outputs": [],
   "source": [
    "deployed_models = endpoint.list_models()\n",
    "deployed_models"
   ]
  },
  {
   "cell_type": "markdown",
   "id": "d580b308-d598-4b4d-9200-46b0b53444ab",
   "metadata": {},
   "source": [
    "### Чи варто розгортати цю модель?\n",
    "Чи є вона кращою за модель, яка вже розгорнута на кінцевій точці?"
   ]
  },
  {
   "cell_type": "code",
   "execution_count": null,
   "id": "f0830224-8326-4d52-97e4-89bdef0fad82",
   "metadata": {},
   "outputs": [],
   "source": [
    "deploy = False\n",
    "if deployed_models:\n",
    "    for deployed_model in deployed_models:\n",
    "        deployed_rank = ranks.loc[(ranks['param.model.display_name'] == deployed_model.display_name) & (ranks['param.model.version_id'] == deployed_model.model_version_id)]['series_rank'].iloc[0]\n",
    "        model_rank = current_rank['series_rank'].iloc[0]\n",
    "        if deployed_model.display_name == model.display_name and deployed_model.model_version_id == model.version_id:\n",
    "            print(f'Поточна модель/версія вже розгорнута.')\n",
    "            break\n",
    "        elif model_rank <= deployed_rank:\n",
    "            deploy = True\n",
    "            print(f'Поточна модель вважається кращою ({model_rank}), ніж розгорнута модель ({deployed_rank}).')\n",
    "            break\n",
    "    if deploy == False: print(f'Поточна модель має гірший рейтинг ({model_rank}), ніж розгорнута модель ({deployed_rank})')\n",
    "else: \n",
    "    deploy = True\n",
    "    print('Наразі не розгорнуто жодної моделі.')"
   ]
  },
  {
   "cell_type": "markdown",
   "id": "25e49dd0",
   "metadata": {},
   "source": [
    "### Deploy Model To Endpoint"
   ]
  },
  {
   "cell_type": "code",
   "execution_count": null,
   "id": "e739bc1c",
   "metadata": {},
   "outputs": [],
   "source": [
    "if deploy:\n",
    "    print(f'Розгортання моделі зі 100% трафіку...')\n",
    "    endpoint.deploy(\n",
    "        model = model,\n",
    "        deployed_model_display_name = model.display_name,\n",
    "        traffic_percentage = 100,\n",
    "        machine_type = DEPLOY_COMPUTE,\n",
    "        min_replica_count = 1,\n",
    "        max_replica_count = 1\n",
    "    )\n",
    "else: print(f'Не розгортається - поточна модель гірша ({model_rank}) за розгорнуту модель ({deployed_rank})')"
   ]
  },
  {
   "cell_type": "markdown",
   "id": "e758bde2-e521-4570-a5c7-44a1bda0eac0",
   "metadata": {},
   "source": [
    "### Видалення розгорнутих моделей без трафіку"
   ]
  },
  {
   "cell_type": "code",
   "execution_count": null,
   "id": "00aa9466-6d9a-41cf-9bfa-7e8997572583",
   "metadata": {},
   "outputs": [],
   "source": [
    "for deployed_model in endpoint.list_models():\n",
    "    if deployed_model.id в endpoint.traffic_split:\n",
    "        print(f\"Модель {deployed_model.display_name} з версією {deployed_model.model_version_id} має трафік = {endpoint.traffic_split[deployed_model.id]}\")\n",
    "    else:\n",
    "        endpoint.undeploy(deployed_model_id = deployed_model.id)\n",
    "        print(f\"Розгортання {deployed_model.display_name} з версією {deployed_model.model_version_id}, оскільки вона не має трафіку.\")"
   ]
  },
  {
   "cell_type": "code",
   "execution_count": null,
   "id": "bacf24f6-c02e-409a-82b4-13c6e4a17dd1",
   "metadata": {},
   "outputs": [],
   "source": [
    "endpoint.traffic_split"
   ]
  },
  {
   "cell_type": "code",
   "execution_count": null,
   "id": "7e416491-c909-45d3-8c79-a74dcafaa4f9",
   "metadata": {},
   "outputs": [],
   "source": [
    "endpoint.list_models()"
   ]
  },
  {
   "cell_type": "markdown",
   "id": "a58790ad",
   "metadata": {},
   "source": [
    "---\n",
    "## Прогнозування"
   ]
  },
  {
   "cell_type": "markdown",
   "id": "342a01eb",
   "metadata": {},
   "source": [
    "### Підготуйте запис для прогнозування: список екземплярів"
   ]
  },
  {
   "cell_type": "code",
   "execution_count": null,
   "id": "617e1e9f",
   "metadata": {},
   "outputs": [],
   "source": [
    "instances = [X_test.to_dict(orient='split')['data'][0]]"
   ]
  },
  {
   "cell_type": "code",
   "execution_count": null,
   "id": "3275175c-bf5f-4f03-b3cd-f5c2b4b840a3",
   "metadata": {},
   "outputs": [],
   "source": [
    "instances[0]"
   ]
  },
  {
   "cell_type": "markdown",
   "id": "81d5eff9",
   "metadata": {},
   "source": [
    "### Отримання прогнозів: Python Client"
   ]
  },
  {
   "cell_type": "code",
   "execution_count": null,
   "id": "06cb59fe",
   "metadata": {},
   "outputs": [],
   "source": [
    "prediction = endpoint.predict(instances=instances)\n",
    "prediction"
   ]
  },
  {
   "cell_type": "code",
   "execution_count": null,
   "id": "3b22b4cb",
   "metadata": {},
   "outputs": [],
   "source": [
    "prediction.predictions[0]"
   ]
  },
  {
   "cell_type": "code",
   "execution_count": null,
   "id": "b64e3283",
   "metadata": {},
   "outputs": [],
   "source": [
    "np.argmax(prediction.predictions[0])"
   ]
  },
  {
   "cell_type": "markdown",
   "id": "8c2a8676",
   "metadata": {},
   "source": [
    "### Отримання прогнозів: REST"
   ]
  },
  {
   "cell_type": "code",
   "execution_count": null,
   "id": "5f97f30c",
   "metadata": {},
   "outputs": [],
   "source": [
    "with open(f'{DIR}/request.json','w') as file:\n",
    "    file.write(json.dumps({\"instances\": instances}))"
   ]
  },
  {
   "cell_type": "code",
   "execution_count": null,
   "id": "362dd5c2",
   "metadata": {},
   "outputs": [],
   "source": [
    "!curl -X POST \\\n",
    "-H \"Authorization: Bearer \"$(gcloud auth application-default print-access-token) \\\n",
    "-H \"Content-Type: application/json; charset=utf-8\" \\\n",
    "-d @{DIR}/request.json \\\n",
    "https://{REGION}-aiplatform.googleapis.com/v1/{endpoint.resource_name}:predict"
   ]
  },
  {
   "cell_type": "markdown",
   "id": "74bd7c47",
   "metadata": {},
   "source": [
    "### Отримання прогнозів: gcloud (CLI)"
   ]
  },
  {
   "cell_type": "code",
   "execution_count": null,
   "id": "d1e56e39",
   "metadata": {},
   "outputs": [],
   "source": [
    "!gcloud beta ai endpoints predict {endpoint.name.rsplit('/',1)[-1]} --region={REGION} --json-request={DIR}/request.json"
   ]
  }
 ],
 "metadata": {
  "environment": {
   "kernel": "python3",
   "name": "tf2-gpu.2-11.m104",
   "type": "gcloud",
   "uri": "gcr.io/deeplearning-platform-release/tf2-gpu.2-11:m104"
  },
  "kernelspec": {
   "display_name": "Python 3 (ipykernel)",
   "language": "python",
   "name": "python3"
  },
  "language_info": {
   "codemirror_mode": {
    "name": "ipython",
    "version": 3
   },
   "file_extension": ".py",
   "mimetype": "text/x-python",
   "name": "python",
   "nbconvert_exporter": "python",
   "pygments_lexer": "ipython3",
   "version": "3.7.12"
  }
 },
 "nbformat": 4,
 "nbformat_minor": 5
}
