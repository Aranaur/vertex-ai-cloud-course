{
 "cells": [
  {
   "cell_type": "markdown",
   "id": "6e7003cd-978f-4562-a816-902c88404642",
   "metadata": {},
   "source": [
    "# BQML Імпорт моделі Scikit-Learn за допомогою ONNX\n",
    "\n",
    "У цьому блокноті показано, як імпортувати модель/конвеєр [scikit-learn](https://scikit-learn.org/stable/) у BigQuery ML для прогнозування безпосередньо всередині BigQuery за допомогою функції [ML.PREDICT()](https://cloud.google.com/bigquery/docs/reference/standard-sql/bigqueryml-syntax-predict).  Це досягається шляхом перетворення моделі/конвеєра `scikit-learn` у формат [ONNX](https://onnx.ai/) - відкритий стандарт для інтероперабельності машинного навчання - і подальшого імпорту його безпосередньо в BigQuery ML.\n",
    "\n",
    "$$\\textrm{scikit-learn} \\Longrightarrow \\textrm{ONNX} \\Longrightarrow \\textrm{BigQuery ML}$$\n",
    "\n",
    "**BigQuery ML Inference Engine**\n",
    "\n",
    "За допомогою BigQuery ML ви можете [імпортувати моделі, навчені поза BigQuery](https://cloud.google.com/bigquery/docs/inference-overview#inference_using_imported_models) у форматах [TensorFlow](https://cloud.google.com/bigquery/docs/reference/standard-sql/bigqueryml-syntax-create-tensorflow), [TensorFlow Lite](https://cloud.google.com/bigquery/docs/reference/standard-sql/bigqueryml-syntax-create-tflite), [XGBoost](https://cloud.google.com/bigquery/docs/reference/standard-sql/bigqueryml-syntax-create-xgboost) та [ONNX](https://cloud.google.com/bigquery/docs/reference/standard-sql/bigqueryml-syntax-create-onnx). Це частина того, що називається BigQuery ML [Inference Engine](https://cloud.google.com/bigquery/docs/inference-overview#inference_using_imported_models), яка має методи для роботи з моделями, навченими/розміщеними поза BigQuery ML, використовуючи для зручності той самий SQL API.  \n",
    "\n",
    "Прочитайте статтю в блозі, яка анонсує появу рушія виводу з березня 2023 року [тут](https://cloud.google.com/blog/products/data-analytics/introducing-bigquery-ml-inference-engine), щоб отримати детальний огляд.\n",
    "\n",
    "**ONNX - Open Neural Network Exchange**\n",
    "\n",
    "Формат [ONNX](https://onnx.ai/) є відкритим стандартом для інтероперабельності машинного навчання.  Це робить моделі придатними для використання в багатьох фреймворках, інструментах і середовищах виконання.  \n",
    "- [підтримувані фреймворки](https://onnx.ai/supported-tools.html#buildModel)\n",
    "- та багато іншого за допомогою [onnxmltools](https://github.com/onnx/onnxmltools)\n",
    "\n",
    "**Перетворення scikit-learn на ONNX**\n",
    "\n",
    "Хоча [onnxmltools](https://github.com/onnx/onnxmltools) має обгортку для [skl2onnx](https://github.com/onnx/sklearn-onnx/), у цьому посібнику показано використання безпосередньо пакету `skl2onnx`.\n",
    "\n",
    "\n",
    "**ONNX за допомогою ONNXRuntime**\n",
    "\n",
    "Пакет [onnxruntim](https://onnxruntime.ai/) можна використовувати для прогнозування/виведення моделі у форматі ONNX.  Він демонструється у цьому ноутбуці, але не є обов'язковим для BigQuery ML, який надає повністю кероване виконання з моделлю, тому користувачам не потрібно налаштовувати цю частину.\n",
    "\n",
    "**Передумови**\n",
    "\n",
    "У цьому ноутбуці використовується модель `scikit-learn`, побудована заздалегідь і збережена в GCS у вигляді pickle-файлу (`.pkl`).\n",
    "\n",
    "**Ресурси**\n",
    "- Підручник [Make predictions with scikit-learn models in ONNX format](https://cloud.google.com/bigquery/docs/making-predictions-with-sklearn-models-in-onnx-format)"
   ]
  },
  {
   "cell_type": "code",
   "execution_count": null,
   "id": "d0291c13-6fab-4f8e-887f-34deb70b046b",
   "metadata": {},
   "outputs": [],
   "source": [
    "PROJECT_ID = 'fit-cloud-course' # замінити на ідентифікатор проекту"
   ]
  },
  {
   "cell_type": "code",
   "execution_count": null,
   "id": "900944d9-fac1-4199-b5c8-0de3c18feae6",
   "metadata": {},
   "outputs": [],
   "source": [
    "try:\n",
    "    import google.colab\n",
    "    from google.colab import auth\n",
    "    auth.authenticate_user()\n",
    "    !gcloud config set project {PROJECT_ID}\n",
    "except Exception:\n",
    "    pass"
   ]
  },
  {
   "cell_type": "markdown",
   "id": "410372bc-446f-463e-8027-81711001c203",
   "metadata": {},
   "source": [
    "---\n",
    "## Налаштування"
   ]
  },
  {
   "cell_type": "markdown",
   "id": "1a00a87f-859e-4de6-af23-1160b1482f12",
   "metadata": {},
   "source": [
    "pip:"
   ]
  },
  {
   "cell_type": "code",
   "execution_count": null,
   "id": "6a31ff15-e115-4e98-9fb7-bca00fb343bf",
   "metadata": {},
   "outputs": [],
   "source": [
    "try:\n",
    "    import skl2onnx\n",
    "except ImportError:\n",
    "    !pip install --user skl2onnx onnxruntime  -U -q"
   ]
  },
  {
   "cell_type": "markdown",
   "id": "a7dbec4f-be52-4bdd-bb1e-77fe6a76fe44",
   "metadata": {},
   "source": [
    "вхідні дані:"
   ]
  },
  {
   "cell_type": "code",
   "execution_count": null,
   "id": "e2606bea-1ce7-478f-956e-f1dd570f230b",
   "metadata": {},
   "outputs": [],
   "source": [
    "project = !gcloud config get-value project\n",
    "PROJECT_ID = project[0]\n",
    "PROJECT_ID"
   ]
  },
  {
   "cell_type": "code",
   "execution_count": null,
   "id": "5947db80-d508-44cb-8202-068f05fae062",
   "metadata": {},
   "outputs": [],
   "source": [
    "REGION = 'us-central1'\n",
    "EXPERIMENT = 'import-onnx-sklearn'\n",
    "SERIES = 'bqml'\n",
    "\n",
    "# вихідні дані\n",
    "BQ_PROJECT = PROJECT_ID\n",
    "BQ_DATASET = 'fraud'\n",
    "BQ_TABLE = 'fraud_prepped'\n",
    "\n",
    "# Навчання моделі\n",
    "VAR_TARGET = 'Class'\n",
    "VAR_OMIT = 'transaction_id'"
   ]
  },
  {
   "cell_type": "markdown",
   "id": "0d2184e2-f8db-4829-8f41-85b528767d1f",
   "metadata": {},
   "source": [
    "пакети:"
   ]
  },
  {
   "cell_type": "code",
   "execution_count": null,
   "id": "36e134f5-59e3-4b87-bf4f-f53e6e97bfc0",
   "metadata": {},
   "outputs": [],
   "source": [
    "from datetime import datetime\n",
    "\n",
    "from google.cloud import aiplatform\n",
    "from google.cloud import bigquery\n",
    "from google.cloud import storage\n",
    "\n",
    "import numpy as np\n",
    "import sklearn\n",
    "import pickle\n",
    "\n",
    "import skl2onnx\n",
    "import onnxruntime"
   ]
  },
  {
   "cell_type": "markdown",
   "id": "3ff06a65-f166-4cbd-a6a1-52eb89faa163",
   "metadata": {},
   "source": [
    "клієнти:"
   ]
  },
  {
   "cell_type": "code",
   "execution_count": null,
   "id": "28143af5-4874-42e0-9d39-187a58590979",
   "metadata": {},
   "outputs": [],
   "source": [
    "aiplatform.init(project = PROJECT_ID, location = REGION)\n",
    "bq = bigquery.Client(project = PROJECT_ID)\n",
    "gcs = storage.Client()"
   ]
  },
  {
   "cell_type": "markdown",
   "id": "55800b2f-dbf6-4d08-beb6-61c42c6d8d60",
   "metadata": {},
   "source": [
    "---\n",
    "## Отримання даних для прогнозування"
   ]
  },
  {
   "cell_type": "code",
   "execution_count": null,
   "id": "c30fc1dc-e0d9-498a-adb4-33de987a47ac",
   "metadata": {},
   "outputs": [],
   "source": [
    "n = 10\n",
    "pred = bq.query(\n",
    "    query = f\"\"\"\n",
    "        SELECT * EXCEPT({VAR_TARGET}, {VAR_OMIT}, splits)\n",
    "        FROM {BQ_PROJECT}.{BQ_DATASET}.{BQ_TABLE}\n",
    "        WHERE splits='TEST'\n",
    "        LIMIT {n}\n",
    "        \"\"\"\n",
    ").to_dataframe()"
   ]
  },
  {
   "cell_type": "code",
   "execution_count": null,
   "id": "fa845eb3-7f5d-40fd-999c-ea87bce527b7",
   "metadata": {},
   "outputs": [],
   "source": [
    "pred.head()"
   ]
  },
  {
   "cell_type": "markdown",
   "id": "d359bbc8-7c8d-4cac-922c-1bc9bd5aa98b",
   "metadata": {},
   "source": [
    "Форма як екземпляри: словники пар ключ:значення тільки для ознак, що використовуються в моделі"
   ]
  },
  {
   "cell_type": "code",
   "execution_count": null,
   "id": "3e3cb0eb-48d4-4417-9c1f-803c301749a7",
   "metadata": {},
   "outputs": [],
   "source": [
    "newobs = pred.to_dict(orient='records')\n",
    "#newobs[0]"
   ]
  },
  {
   "cell_type": "code",
   "execution_count": null,
   "id": "dd16916a-ae80-4ff4-8571-ba2bec4998bc",
   "metadata": {},
   "outputs": [],
   "source": [
    "len(newobs)"
   ]
  },
  {
   "cell_type": "code",
   "execution_count": null,
   "id": "0bc825b1-f42c-46da-b72a-df1a8f5d2f05",
   "metadata": {},
   "outputs": [],
   "source": [
    "newobs[0]"
   ]
  },
  {
   "cell_type": "markdown",
   "id": "c72af4b3-ded6-4782-8998-966da30f8067",
   "metadata": {},
   "source": [
    "---\n",
    "\n",
    "## Отримати модель для прогнозування\n",
    "\n",
    "Ця секція отримує поточну активну модель, яка використовується на кінцевій точці прогнозування Vertex AI.\n",
    "\n",
    ">Якщо ви вже знаєте розташування файлів вашої моделі у GCS Bucket, то цю секцію можна оминути, зберігши розташування моделі за допомогою: `model_uri = 'gs://bucket/path/to/files'."
   ]
  },
  {
   "cell_type": "code",
   "execution_count": null,
   "id": "c95316fe-72ac-4a8b-9d33-522fea636b74",
   "metadata": {},
   "outputs": [],
   "source": [
    "# Серія 04 створює моделі на основі scikit-learn\n",
    "PREVIOUS_SERIES = '04'"
   ]
  },
  {
   "cell_type": "markdown",
   "id": "116df036-db05-413c-8377-2e6173df5b8b",
   "metadata": {},
   "source": [
    "### Отримати кінцеву точку\n",
    "\n",
    "Посилання: [aiplatform.Endpoint](https://cloud.google.com/python/docs/reference/aiplatform/latest/google.cloud.aiplatform.Endpoint)"
   ]
  },
  {
   "cell_type": "code",
   "execution_count": null,
   "id": "3a981d55-53c8-4e57-afbd-126c780cfe7e",
   "metadata": {},
   "outputs": [],
   "source": [
    "endpoints = aiplatform.Endpoint.list(filter = f\"labels.series={PREVIOUS_SERIES}\")\n",
    "endpoint = endpoints[0]"
   ]
  },
  {
   "cell_type": "code",
   "execution_count": null,
   "id": "f644940a-8f90-455d-8eba-093119e3c2ef",
   "metadata": {},
   "outputs": [],
   "source": [
    "print(f'Перегляньте кінцеву точку в консолі:\\nhttps://console.cloud.google.com/vertex-ai/locations/{REGION}/endpoints/{endpoint.name}?project={PROJECT_ID}')"
   ]
  },
  {
   "cell_type": "code",
   "execution_count": null,
   "id": "bb13ab27-afdf-4f08-8e40-742c52bc2282",
   "metadata": {},
   "outputs": [],
   "source": [
    "[list(newobs[0].values())]"
   ]
  },
  {
   "cell_type": "code",
   "execution_count": null,
   "id": "eda256f6-db2b-46f1-8226-af338c58aa90",
   "metadata": {},
   "outputs": [],
   "source": [
    "endpoint.predict(instances = [list(newobs[0].values())]).predictions"
   ]
  },
  {
   "cell_type": "markdown",
   "id": "c60023c9-a639-4ae8-b9f6-9b5f1e1ae5c3",
   "metadata": {},
   "source": [
    "### Переглянути інформацію про модель\n",
    "\n",
    "Посилання: [aiplatform.Model](https://cloud.google.com/python/docs/reference/aiplatform/latest/google.cloud.aiplatform.Model)"
   ]
  },
  {
   "cell_type": "code",
   "execution_count": null,
   "id": "ef4715d3-52d2-4c95-8978-4730bcce4a2e",
   "metadata": {},
   "outputs": [],
   "source": [
    "vertex_model = aiplatform.Model(\n",
    "    model_name = endpoint.list_models()[0].model + f'@{endpoint.list_models()[0].model_version_id}'\n",
    ")"
   ]
  },
  {
   "cell_type": "code",
   "execution_count": null,
   "id": "e74c295b-2745-4003-bdad-9b579619512e",
   "metadata": {},
   "outputs": [],
   "source": [
    "vertex_model.display_name"
   ]
  },
  {
   "cell_type": "code",
   "execution_count": null,
   "id": "16e6fa29-9faf-43c7-844d-a00023310600",
   "metadata": {},
   "outputs": [],
   "source": [
    "vertex_model.version_id"
   ]
  },
  {
   "cell_type": "code",
   "execution_count": null,
   "id": "5368edd2-35b7-4307-a70f-3b14824d0063",
   "metadata": {},
   "outputs": [],
   "source": [
    "vertex_model.name"
   ]
  },
  {
   "cell_type": "code",
   "execution_count": null,
   "id": "b33027c3-e531-4e15-b153-2434e0121df3",
   "metadata": {},
   "outputs": [],
   "source": [
    "vertex_model.uri"
   ]
  },
  {
   "cell_type": "code",
   "execution_count": null,
   "id": "a32b33e3-cb28-466c-9fec-3346cac633da",
   "metadata": {},
   "outputs": [],
   "source": [
    "!gsutil ls {vertex_model.uri}"
   ]
  },
  {
   "cell_type": "code",
   "execution_count": null,
   "id": "09ddf6c1-0821-442d-8806-cc9244547d3d",
   "metadata": {},
   "outputs": [],
   "source": [
    "bucket = gcs.bucket(PROJECT_ID)\n",
    "for blob in bucket.list_blobs(prefix = vertex_model.uri.split(f'gs://{PROJECT_ID}/')[1]):\n",
    "    print(blob.name)\n",
    "    if blob.name.split('.pkl')[-1] == '.pkl': break;"
   ]
  },
  {
   "cell_type": "code",
   "execution_count": null,
   "id": "eeeaf4e9-b2b0-4e3e-916d-db26b392ffdd",
   "metadata": {},
   "outputs": [],
   "source": [
    "print(f'Review the model in the Vertex AI Model Registry:\\nhttps://console.cloud.google.com/vertex-ai/locations/{REGION}/models/{vertex_model.name}/versions/{vertex_model.version_id}/properties?project={PROJECT_ID}')"
   ]
  },
  {
   "cell_type": "markdown",
   "id": "1349f441-194b-41a0-b107-a778e5e497c7",
   "metadata": {},
   "source": [
    "---\n",
    "## Локальна модель: scikit-learn\n",
    "\n",
    "Завантажуємо модель у блокнот."
   ]
  },
  {
   "cell_type": "code",
   "execution_count": null,
   "id": "629fa906-b9f1-499e-85f3-a2959175f6c8",
   "metadata": {},
   "outputs": [],
   "source": [
    "pickle_in = blob.download_as_string()\n",
    "local_model = pickle.loads(pickle_in)"
   ]
  },
  {
   "cell_type": "markdown",
   "id": "0a812d69-4226-4d6a-8deb-450cfd4d36b0",
   "metadata": {},
   "source": [
    "Отримуйте локальні прогнози за допомогою моделі:"
   ]
  },
  {
   "cell_type": "code",
   "execution_count": null,
   "id": "32613c45-3724-4309-852f-f7f9a9653302",
   "metadata": {},
   "outputs": [],
   "source": [
    "[list(newobs[0].values())]"
   ]
  },
  {
   "cell_type": "code",
   "execution_count": null,
   "id": "377a99ae-658c-4f9e-ac04-780fad59464a",
   "metadata": {},
   "outputs": [],
   "source": [
    "local_model.predict([list(newobs[0].values())])"
   ]
  },
  {
   "cell_type": "code",
   "execution_count": null,
   "id": "4325e742-867c-4d67-aea4-7ee60a45aa44",
   "metadata": {},
   "outputs": [],
   "source": [
    "local_model.predict_proba([list(newobs[0].values())])"
   ]
  },
  {
   "cell_type": "markdown",
   "id": "1c195bf3-72fc-44e9-b0a9-3a947ec0c1f5",
   "metadata": {},
   "source": [
    "---\n",
    "## Перетворення моделі: ONNX\n",
    "\n",
    "- За допомогою [sklearn-onnx](https://onnx.ai/sklearn-onnx/)\n",
    "    - Всі доступні типи даних у [джерелі](https://github.com/onnx/sklearn-onnx/blob/main/skl2onnx/common/data_types.py)\n",
    "    - більше про опцію zipmap [тут](https://onnx.ai/sklearn-onnx/auto_tutorial/plot_dbegin_options_zipmap.html)"
   ]
  },
  {
   "cell_type": "code",
   "execution_count": null,
   "id": "c8938c9c-5532-485b-9034-94efbca0b94e",
   "metadata": {},
   "outputs": [],
   "source": [
    "initial_types = []\n",
    "for feature in preds.dtypes.apply(lambda x: x.name).to_dict().items():\n",
    "    if feature[1] == 'Int64': tensor_type = skl2onnx.common.data_types.Int64TensorType([None, 1])\n",
    "    elif feature[1] == 'float64': tensor_type = skl2onnx.common.data_types.FloatTensorType([None, 1])\n",
    "    # інші типи даних тут за потреби\n",
    "    initial_types.append((feature[0], tensor_type))"
   ]
  },
  {
   "cell_type": "code",
   "execution_count": null,
   "id": "a8c3d449-2b2d-4d31-9f7d-75e2aa181254",
   "metadata": {},
   "outputs": [],
   "source": [
    "onnx_model = skl2onnx.convert_sklearn(local_model, initial_types = initial_types, options = {id(local_model): {'zipmap': False}})"
   ]
  },
  {
   "cell_type": "markdown",
   "id": "9a8ee887-8aef-4106-a370-7491be1f4f4f",
   "metadata": {},
   "source": [
    "## Локальний тест моделі ONNX\n",
    "\n",
    "- За допомогою [onnxruntime](https://onnxruntime.ai/)"
   ]
  },
  {
   "cell_type": "code",
   "execution_count": null,
   "id": "f09569c1-659b-4ffd-9c15-ebd8182f5b4c",
   "metadata": {},
   "outputs": [],
   "source": [
    "local_onnx = onnxruntime.InferenceSession(onnx_model.SerializeToString())"
   ]
  },
  {
   "cell_type": "code",
   "execution_count": null,
   "id": "50ab1abc-8f75-4aaf-bd2a-a3d27aa7e904",
   "metadata": {},
   "outputs": [],
   "source": [
    "test_ob = newobs[0].copy()\n",
    "for v in test_ob:\n",
    "    if type(test_ob[v]) == int:\n",
    "        test_ob[v] = np.array([[test_ob[v]]], dtype = np.int64)\n",
    "    elif type(test_ob[v]) == float:\n",
    "        test_ob[v] = np.array([[test_ob[v]]], dtype = np.float32)\n",
    "test_ob"
   ]
  },
  {
   "cell_type": "code",
   "execution_count": null,
   "id": "c6f27ce1-1f9b-4e33-b68b-c5f9a76b4d15",
   "metadata": {},
   "outputs": [],
   "source": [
    "local_onnx.run(None, test_ob)"
   ]
  },
  {
   "cell_type": "code",
   "execution_count": null,
   "id": "19f554b2-59c8-4902-86c9-6a3d69a27eff",
   "metadata": {},
   "outputs": [],
   "source": [
    "local_onnx.run(None, test_ob)[0]"
   ]
  },
  {
   "cell_type": "markdown",
   "id": "c1cd14a0-3fdf-45a8-8c1d-4c13ceb96e18",
   "metadata": {},
   "source": [
    "---\n",
    "## Імпорт моделі BigQuery ML\n",
    "\n",
    "Довідка: [The CREATE MODEL statement for importing ONNX models](https://cloud.google.com/bigquery/docs/reference/standard-sql/bigqueryml-syntax-create-onnx)"
   ]
  },
  {
   "cell_type": "markdown",
   "id": "0391b00c-3c1c-4caf-a531-c748df839ee5",
   "metadata": {},
   "source": [
    "Збережіть модель ONNX в GCS:"
   ]
  },
  {
   "cell_type": "code",
   "execution_count": null,
   "id": "6af97e8d-a91d-43fc-b4c8-afe4f7b37c44",
   "metadata": {},
   "outputs": [],
   "source": [
    "blob = bucket.blob(f'{SERIES}/{EXPERIMENT}/model.onnx')\n",
    "blob.upload_from_string(onnx_model.SerializeToString())"
   ]
  },
  {
   "cell_type": "markdown",
   "id": "2834ea61-4873-4d9e-989e-b043d650a306",
   "metadata": {},
   "source": [
    "Створення ML-моделі BigQuery:"
   ]
  },
  {
   "cell_type": "code",
   "execution_count": null,
   "id": "e7ebddfe-780a-4bac-9f8e-ae8a49f7e674",
   "metadata": {},
   "outputs": [],
   "source": [
    "query = f\"\"\"\n",
    "CREATE OR REPLACE MODEL `{BQ_PROJECT}.{BQ_DATASET}.{SERIES}-{EXPERIMENT}`\n",
    "    OPTIONS(\n",
    "        MODEL_TYPE = 'ONNX',\n",
    "        MODEL_PATH = 'gs://{PROJECT_ID}/{SERIES}/{EXPERIMENT}/*'\n",
    "    )\n",
    "\"\"\"\n",
    "print(query)"
   ]
  },
  {
   "cell_type": "code",
   "execution_count": null,
   "id": "8b17dfc4-ef4e-4829-8d35-0a2ba84ac56b",
   "metadata": {},
   "outputs": [],
   "source": [
    "job = bq.query(query = query)\n",
    "job.result()\n",
    "(job.ended-job.started).total_seconds()"
   ]
  },
  {
   "cell_type": "markdown",
   "id": "5ce9037c-cfaf-4df3-8570-0b6b166bb85d",
   "metadata": {},
   "source": [
    "## Прогнозування з BigQuery ML: ML.PREDICT"
   ]
  },
  {
   "cell_type": "code",
   "execution_count": null,
   "id": "6614e900-5d7d-47ba-b3be-55df074bbfa8",
   "metadata": {},
   "outputs": [],
   "source": [
    "query = f\"\"\"\n",
    "SELECT *\n",
    "FROM ML.PREDICT (MODEL `{BQ_PROJECT}.{BQ_DATASET}.{SERIES}-{EXPERIMENT}`,(\n",
    "    SELECT * \n",
    "    FROM `{BQ_PROJECT}.{BQ_DATASET}.{BQ_TABLE}`\n",
    "    WHERE splits = 'TEST'\n",
    "    LIMIT 1)\n",
    "  )\n",
    "\"\"\"\n",
    "pred = bq.query(query = query).to_dataframe()"
   ]
  },
  {
   "cell_type": "code",
   "execution_count": null,
   "id": "68fb8f88-8493-45d4-9b37-f63c1b9a53c5",
   "metadata": {},
   "outputs": [],
   "source": [
    "pred"
   ]
  },
  {
   "cell_type": "code",
   "execution_count": null,
   "id": "6e48fde2-d027-413d-8a67-aff5e673a923",
   "metadata": {},
   "outputs": [],
   "source": [
    "print(query)"
   ]
  },
  {
   "cell_type": "code",
   "execution_count": null,
   "id": "f95fef41-730f-4881-89c1-fd8e43d867b1",
   "metadata": {},
   "outputs": [],
   "source": []
  }
 ],
 "metadata": {
  "environment": {
   "kernel": "conda-root-py",
   "name": "workbench-notebooks.m113",
   "type": "gcloud",
   "uri": "gcr.io/deeplearning-platform-release/workbench-notebooks:m113"
  },
  "kernelspec": {
   "display_name": "Python 3 (ipykernel) (Local)",
   "language": "python",
   "name": "conda-root-py"
  },
  "language_info": {
   "codemirror_mode": {
    "name": "ipython",
    "version": 3
   },
   "file_extension": ".py",
   "mimetype": "text/x-python",
   "name": "python",
   "nbconvert_exporter": "python",
   "pygments_lexer": "ipython3",
   "version": "3.10.13"
  }
 },
 "nbformat": 4,
 "nbformat_minor": 5
}
