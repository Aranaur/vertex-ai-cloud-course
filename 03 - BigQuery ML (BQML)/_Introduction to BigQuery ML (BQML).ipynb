{
 "cells": [
  {
   "cell_type": "markdown",
   "id": "1795b64c-da04-4cc4-a960-17a540771f36",
   "metadata": {},
   "source": [
    "# Вступ до BigQuery ML (BQML)\n",
    "\n",
    "[BigQuery ML](https://cloud.google.com/bigquery/docs/bqml-introduction) дозволяє використовувати `SQL` для побудови робочого процесу ML.  Це великий стрибок у продуктивності та гнучкості, коли джерелом даних є [BigQuery](https://cloud.google.com/bigquery/docs/introduction) і користувачі вже знайомі з `SQL. Використовуючи лише `SQL`, для навчання моделі можна застосовувати [численні методи](https://cloud.google.com/bigquery/docs/bqml-introduction#model_selection_guide) і навіть включати [налаштування гіперпараметрів](https://cloud.google.com/bigquery/docs/reference/standard-sql/bigqueryml-syntax-hp-tuning-overview).  Він включає безсерверні методи [навчання, оцінювання та виведення](https://cloud.google.com/bigquery/docs/reference/standard-sql/bigqueryml-syntax-e2e-journey) для контрольованих і неконтрольованих методів, методів часових рядів і навіть механізмів рекомендацій.  [Передбачення](https://cloud.google.com/bigquery/docs/reference/standard-sql/bigqueryml-syntax-inference-overview) можуть обслуговуватися безпосередньо у BigQuery, які також включають міри пояснюваності. Предиктивні моделі можна [експортувати у власний фреймворк](https://cloud.google.com/bigquery/docs/reference/standard-sql/bigqueryml-syntax-export-model) для перенесення, або навіть безпосередньо [зареєструвати в реєстрі моделей Vertex AI](https://cloud.google.com/bigquery/docs/managing-models-vertex) для онлайн-прогнозування на кінцевих точках Vertex AI.  Ви можете [імпортувати моделі в BigQuery ML](https://cloud.google.com/bigquery/docs/reference/standard-sql/inference-overview#inference_using_imported_models) з багатьох поширених фреймворків або [підключитися до віддалено розміщених моделей](https://cloud.google.com/bigquery/docs/reference/standard-sql/inference-overview#inference_using_remote_models) на Vertex AI Endpoints. Ви навіть можете безпосередньо використовувати багато [попередньо навчених моделей](https://cloud.google.com/bigquery/docs/reference/standard-sql/inference-overview#pretrained-models) у Vertex AI, таких як Cloud Vision API, Cloud Natural Language API та Cloud Translate API.\n",
    "\n",
    "**Ви вже знаєте:**\n",
    "```SQL\n",
    "CREATE TABLE {table name}\n",
    "    AS\n",
    "        SELECT ...\n",
    "        FROM ...\n",
    "        WHERE ...\n",
    "```\n",
    "\n",
    "**Тепер спробуйте:**\n",
    "```SQL\n",
    "CREATE MODEL {model name} \n",
    "    OPTIONS (\n",
    "        MODEL_TYPE = ...\n",
    "        {more options}\n",
    "    )\n",
    "    AS\n",
    "        SELECT ...\n",
    "        FROM ...\n",
    "        WHERE ...\n",
    "```\n",
    "\n",
    "**Або навіть так:**\n",
    "- ```SQL\n",
    "CREATE OR REPLACE MODEL {model name}...\n",
    "```\n",
    "- ```SQL\n",
    "CREATE MODEL IF NOT EXISTS {model name}...\n",
    "```\n",
    "\n",
    "**Функції для вашого робочого процесу ML**\n",
    "- Оцінка моделі за допомогою `ML.EVALUTE`:\n",
    "    - ```SQL\n",
    "    SELECT *\n",
    "    FROM ML.EVALUTE(\n",
    "        MODEL {model name},\n",
    "        (\n",
    "            SELECT ...\n",
    "            FROM ...\n",
    "            WHERE ...),\n",
    "        STRUCT({optional parameters})\n",
    "    )\n",
    "    ```\n",
    "- Прогнозування за допомогою моделей з `ML.PREDICT`:\n",
    "    - ```SQL\n",
    "    SELECT *\n",
    "    FROM ML.PREDICT(\n",
    "        MODEL {model name},\n",
    "        (\n",
    "            SELECT ...\n",
    "            FROM ...\n",
    "            WHERE ...),\n",
    "        STRUCT({optional parameters})\n",
    "    )\n",
    "    ```\n",
    "---\n",
    "\n",
    "**Початок знайомства**\n",
    "\n",
    "Доступні типи моделей і функції, які допоможуть створити робочий процес ML з кожним типом моделі:\n",
    "\n",
    "- [End-to-end user journey for each model](https://cloud.google.com/bigquery/docs/e2e-journey)\n",
    "- [Introduction to BigQuery ML](https://cloud.google.com/bigquery/docs/bqml-introduction)"
   ]
  },
  {
   "cell_type": "markdown",
   "id": "e536a9d7-efc2-40e7-aaea-cfad9d945738",
   "metadata": {},
   "source": [
    "---\n",
    "## Налаштування"
   ]
  },
  {
   "cell_type": "markdown",
   "id": "169f173e-3686-4d71-8820-640becfd4744",
   "metadata": {},
   "source": [
    "вхідні дані:"
   ]
  },
  {
   "cell_type": "code",
   "execution_count": null,
   "id": "d4579545-52c5-4881-a1d5-f4d8d19fd0a5",
   "metadata": {},
   "outputs": [],
   "source": [
    "project = !gcloud config get-value project\n",
    "PROJECT_ID = project[0]\n",
    "PROJECT_ID"
   ]
  },
  {
   "cell_type": "code",
   "execution_count": null,
   "id": "7dabfb39-3122-435f-a17e-c18ac4219d39",
   "metadata": {},
   "outputs": [],
   "source": [
    "# початкові дані\n",
    "BQ_PROJECT = PROJECT_ID\n",
    "BQ_DATASET = 'fraud'\n",
    "BQ_TABLE = 'fraud_prepped'"
   ]
  },
  {
   "cell_type": "markdown",
   "id": "259bce2e-9463-4516-959f-409ac6c5b32c",
   "metadata": {},
   "source": [
    "пакети:"
   ]
  },
  {
   "cell_type": "code",
   "execution_count": null,
   "id": "b2d627a3-fabb-4591-a844-b8fe66173066",
   "metadata": {},
   "outputs": [],
   "source": [
    "import pandas as pd\n",
    "from google.cloud import bigquery"
   ]
  },
  {
   "cell_type": "markdown",
   "id": "99530a51-ffe9-49a8-ab78-6ce359f7c008",
   "metadata": {},
   "source": [
    "клієнт:"
   ]
  },
  {
   "cell_type": "code",
   "execution_count": null,
   "id": "d6f944c0-38e3-42d2-a8f2-300c89af22f1",
   "metadata": {},
   "outputs": [],
   "source": [
    "bq = bigquery.Client()"
   ]
  },
  {
   "cell_type": "markdown",
   "id": "a66451f8-45e5-4116-9752-3e132e3707a0",
   "metadata": {},
   "source": [
    "параметри:"
   ]
  },
  {
   "cell_type": "code",
   "execution_count": null,
   "id": "a1d9e7f8-fed3-4dc3-880c-8bfc100816b7",
   "metadata": {},
   "outputs": [],
   "source": [
    "BQ_SOURCE = f'{BQ_PROJECT}.{BQ_DATASET}.{BQ_TABLE}'"
   ]
  },
  {
   "cell_type": "markdown",
   "id": "3a08dd80-98d7-4ef5-9b28-2662fee462f1",
   "metadata": {},
   "source": [
    "---\n",
    "## Використання BigQuery з Jupyter та Python"
   ]
  },
  {
   "cell_type": "markdown",
   "id": "70be18ed-b7fa-48ca-bc13-4c25599ac58c",
   "metadata": {},
   "source": [
    "### BigQuery Cell Magic"
   ]
  },
  {
   "cell_type": "code",
   "execution_count": null,
   "id": "536340f4",
   "metadata": {},
   "outputs": [],
   "source": [
    "%load_ext google.cloud.bigquery"
   ]
  },
  {
   "cell_type": "code",
   "execution_count": null,
   "id": "91e8feec-dd7c-483b-8172-413270dc20c4",
   "metadata": {},
   "outputs": [],
   "source": [
    "%%bigquery\n",
    "SELECT COUNT(*) as n\n",
    "FROM `fit-cloud-course.fraud.fraud_prepped` # це не можна параметризувати за допомогою магії"
   ]
  },
  {
   "cell_type": "markdown",
   "id": "4e6bc774-d253-4468-82ba-389b7ca47850",
   "metadata": {},
   "source": [
    "### Клієнт BigQuery на Python"
   ]
  },
  {
   "cell_type": "code",
   "execution_count": null,
   "id": "10de1e65-af70-474f-b1d0-937f6ebd269f",
   "metadata": {},
   "outputs": [],
   "source": [
    "query = f\"\"\"\n",
    "    SELECT splits, COUNT(*) as n \n",
    "    FROM `{BQ_SOURCE}`\n",
    "    GROUP BY splits\n",
    "\"\"\"\n",
    "preview = bq.query(query = query).to_dataframe()\n",
    "preview"
   ]
  },
  {
   "cell_type": "markdown",
   "id": "c4705319-3d9b-45be-a852-7f513f5184a9",
   "metadata": {},
   "source": [
    "### Клієнт BigQuery на Python: Використання властивостей та методів запиту\n",
    "\n",
    "Запити мають методи та властивості, які можуть бути корисними для робочого процесу Python:\n",
    "- [Методи](https://cloud.google.com/python/docs/reference/bigquery/latest/google.cloud.bigquery.job.QueryJob#methods)\n",
    "- [Properties](https://cloud.google.com/python/docs/reference/bigquery/latest/google.cloud.bigquery.job.QueryJob#properties)"
   ]
  },
  {
   "cell_type": "markdown",
   "id": "26f96e5f-5f7e-4d5e-9b13-46efc025e884",
   "metadata": {},
   "source": [
    "BigQuery запит (з використанням допоміжної функції):"
   ]
  },
  {
   "cell_type": "code",
   "execution_count": null,
   "id": "27985e7f-af08-427d-a9b2-d056053fd86b",
   "metadata": {},
   "outputs": [],
   "source": [
    "job = bq_runner(\n",
    "    query = f\"\"\"\n",
    "    WITH\n",
    "        COUNTS AS (\n",
    "            SELECT splits, Class, COUNT(*) as n \n",
    "            FROM `{BQ_SOURCE}`\n",
    "            GROUP BY splits, Class\n",
    "        )\n",
    "    SELECT *,\n",
    "        SUM(n) OVER() as total,\n",
    "        SAFE_DIVIDE(n, SUM(n) OVER(PARTITION BY Class)) as n_pct_class,\n",
    "        SAFE_DIVIDE(n, SUM(n) OVER(PARTITION BY splits)) as n_pct_split,\n",
    "        SAFE_DIVIDE(SUM(n) OVER(PARTITION BY Class), SUM(n) OVER()) as class_pct_to  \n",
    "    FROM COUNTS\n",
    "    \"\"\"\n",
    ")"
   ]
  },
  {
   "cell_type": "markdown",
   "id": "30aea109-6c6d-46df-99b4-22d3c3a8204e",
   "metadata": {},
   "source": [
    "Розрахуємо час:"
   ]
  },
  {
   "cell_type": "code",
   "execution_count": null,
   "id": "22a37252-baa1-447c-9c96-c0586e671e20",
   "metadata": {},
   "outputs": [],
   "source": [
    "job.result()\n",
    "(job.ended-job.started).total_seconds()"
   ]
  },
  {
   "cell_type": "markdown",
   "id": "8d9c2109-4b91-4f25-8b46-bc2feae10c20",
   "metadata": {},
   "source": [
    "Pandas dataframe:"
   ]
  },
  {
   "cell_type": "code",
   "execution_count": null,
   "id": "74730a75-6178-411e-b772-bffc2e5b50dd",
   "metadata": {},
   "outputs": [],
   "source": [
    "job.to_dataframe()"
   ]
  },
  {
   "cell_type": "markdown",
   "id": "1e91bc2a-c47a-4163-97b0-b3f5e9fc17c2",
   "metadata": {},
   "source": [
    "### Непряме використання з pandas-gbq\n",
    "\n",
    "При роботі з [Pandas](https://pandas.pydata.org/docs/user_guide/index.html#user-guide) наведені вище методи показують, що клієнт повертає дані у вигляді pandas датафрейму.  У цьому розділі буде показано модуль pandas, [pandas-gbq](https://pandas-gbq.readthedocs.io/en/latest/), який обгортає клієнт BigQuery так, щоб pandas міг отримувати дані BigQuery у фрейми даних.\n",
    "\n",
    "Посилання:\n",
    "- [Порівняння клієнта BigQuery з pandas-gbq](https://cloud.google.com/bigquery/docs/pandas-gbq-migration)"
   ]
  },
  {
   "cell_type": "markdown",
   "id": "cea8a633-ae25-4b2c-a7d9-8b3626dae82e",
   "metadata": {},
   "source": [
    "#### Встановити пакет (якщо потрібно)"
   ]
  },
  {
   "cell_type": "code",
   "execution_count": null,
   "id": "59f3c152-e68c-427a-bdfa-5ca34e1749ef",
   "metadata": {},
   "outputs": [],
   "source": [
    "try:\n",
    "    import pandas_gbq\n",
    "except ImportError:\n",
    "    print('Вам потрібно виконати pip install pandas-gbq')\n",
    "    !pip install pandas-gbq -q"
   ]
  },
  {
   "cell_type": "markdown",
   "id": "b5de992f-5679-40da-934b-0d5d7c66d633",
   "metadata": {},
   "source": [
    "#### Using pandas-gbq"
   ]
  },
  {
   "cell_type": "code",
   "execution_count": null,
   "id": "e3c17ed9-5461-47b0-8dd1-34779eee6616",
   "metadata": {},
   "outputs": [],
   "source": [
    "query = f\"\"\"\n",
    "SELECT * \n",
    "FROM `{BQ_SOURCE}`\n",
    "LIMIT 5\n",
    "\"\"\"\n",
    "df = pd.read_gbq(query, project_id = BQ_PROJECT)"
   ]
  },
  {
   "cell_type": "code",
   "execution_count": null,
   "id": "56df79c3-da3e-4eda-99d7-81182079c9e9",
   "metadata": {},
   "outputs": [],
   "source": [
    "df"
   ]
  },
  {
   "cell_type": "code",
   "execution_count": null,
   "id": "4ac43ae3-dfb2-43dd-b7a1-cb22fb10744e",
   "metadata": {},
   "outputs": [],
   "source": []
  }
 ],
 "metadata": {
  "environment": {
   "kernel": "python3",
   "name": "tf2-gpu.2-11.m104",
   "type": "gcloud",
   "uri": "gcr.io/deeplearning-platform-release/tf2-gpu.2-11:m104"
  },
  "kernelspec": {
   "display_name": "Python 3 (ipykernel)",
   "language": "python",
   "name": "python3"
  },
  "language_info": {
   "codemirror_mode": {
    "name": "ipython",
    "version": 3
   },
   "file_extension": ".py",
   "mimetype": "text/x-python",
   "name": "python",
   "nbconvert_exporter": "python",
   "pygments_lexer": "ipython3",
   "version": "3.7.12"
  },
  "vscode": {
   "interpreter": {
    "hash": "e7370f93d1d0cde622a1f8e1c04877d8463912d04d973331ad4851f04de6915a"
   }
  }
 },
 "nbformat": 4,
 "nbformat_minor": 5
}
